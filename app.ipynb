{
  "cells": [
    {
      "cell_type": "code",
      "execution_count": null,
      "metadata": {
        "id": "h1omDGn84LKG"
      },
      "outputs": [],
      "source": [
        "!pip install vanna\n",
        "import vanna\n",
        "from vanna.remote import VannaDefault\n",
        "vn = VannaDefault(model='chinook', api_key=vanna.get_api_key('rrwang197@gmail.com'))\n",
        "vn.connect_to_sqlite('https://vanna.ai/Chinook.sqlite')\n",
        "vn.ask(\"What are the top 10 albums by sales?\")"
      ]
    },
    {
      "cell_type": "code",
      "execution_count": null,
      "metadata": {
        "id": "I9rxrvwt4LKJ"
      },
      "outputs": [],
      "source": [
        "from vanna.flask import VannaFlaskApp\n",
        "VannaFlaskApp(vn).run()"
      ]
    },
    {
      "cell_type": "markdown",
      "metadata": {
        "id": "QHcGxd2g4LKJ"
      },
      "source": [
        "## Here's what you'll get\n",
        "![vanna-flask](https://vanna.ai/blog/img/vanna-flask.gif)"
      ]
    },
    {
      "cell_type": "markdown",
      "metadata": {
        "id": "CFpuqoIY4LKK"
      },
      "source": []
    }
  ],
  "metadata": {
    "language_info": {
      "name": "python"
    },
    "colab": {
      "provenance": []
    },
    "kernelspec": {
      "name": "python3",
      "display_name": "Python 3"
    }
  },
  "nbformat": 4,
  "nbformat_minor": 0
}